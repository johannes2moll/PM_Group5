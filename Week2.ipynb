{
 "cells": [
  {
   "attachments": {},
   "cell_type": "markdown",
   "metadata": {},
   "source": [
    "# Week 2 tasks #\n",
    "\n",
    "## Task 1: ##\n",
    "In objective 1 you are asked to construct a HI, which represents a health\n",
    "status. What part of the training data can be considered “healthy” and what\n",
    "part of the training data can be considered “degraded”? How can you en-\n",
    "code the two statuses?"
   ]
  },
  {
   "attachments": {},
   "cell_type": "markdown",
   "metadata": {},
   "source": [
    "## Answer: ##\n",
    "A unit is healthy as long as the sensor measurements are static / within the normal range. As soon as they diverge from the normal range, the unit is considered degraded. The two statuses can be encoded as 0 (healthy) and 1 (degraded)."
   ]
  },
  {
   "attachments": {},
   "cell_type": "markdown",
   "metadata": {},
   "source": [
    "## Task 2: ##\n",
    "In objective 2, you are asked to calculate RUL either directly or based on\n",
    "the HI you constructed. What are the advantages and disadvantages of the\n",
    "two approaches? When receiving test data, how does the process look like\n",
    "from receiving the raw test data up to the calculated RUL value? Do you\n",
    "use regression, classification or both in this process in order to predict RUL?"
   ]
  },
  {
   "attachments": {},
   "cell_type": "markdown",
   "metadata": {},
   "source": [
    "## Answer: ##\n",
    "The advantage of calculating RUL directly is that it is a simple and straightforward approach. The disadvantage is that it is not very accurate. The advantage of calculating RUL based on the HI is that it is more accurate. The disadvantage is that it is more complex. When receiving test data, the process looks like this: 1. Preprocess the data (e.g. remove outliers, normalize the data, etc.) 2. Calculate the HI 3. Calculate the RUL based on the HI. We use regression to predict RUL.\n",
    "\n",
    "As I see it, the HI would work as an additional input feature to the regression model. The model would then predict the RUL based on the HI and the other input features. The HI would indicate if the observed measurements are within the normal range or not. "
   ]
  }
 ],
 "metadata": {
  "language_info": {
   "name": "python"
  },
  "orig_nbformat": 4
 },
 "nbformat": 4,
 "nbformat_minor": 2
}
